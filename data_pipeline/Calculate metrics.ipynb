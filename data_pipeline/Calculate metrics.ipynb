{
 "cells": [
  {
   "cell_type": "markdown",
   "metadata": {
    "toc": true
   },
   "source": [
    "<h1>Table of Contents<span class=\"tocSkip\"></span></h1>\n",
    "<div class=\"toc\"><ul class=\"toc-item\"><li><span><a href=\"#A-PoC-for-calculating-metrics-for-a-city\" data-toc-modified-id=\"A-PoC-for-calculating-metrics-for-a-city-1\"><span class=\"toc-item-num\">1&nbsp;&nbsp;</span>A PoC for calculating metrics for a city</a></span><ul class=\"toc-item\"><li><span><a href=\"#Preprocessing\" data-toc-modified-id=\"Preprocessing-1.1\"><span class=\"toc-item-num\">1.1&nbsp;&nbsp;</span>Preprocessing</a></span></li><li><span><a href=\"#Check-NaN-columns\" data-toc-modified-id=\"Check-NaN-columns-1.2\"><span class=\"toc-item-num\">1.2&nbsp;&nbsp;</span>Check <code>NaN</code> columns</a></span></li><li><span><a href=\"#Open-Question:-Impute-NaN-for-daily-tests\" data-toc-modified-id=\"Open-Question:-Impute-NaN-for-daily-tests-1.3\"><span class=\"toc-item-num\">1.3&nbsp;&nbsp;</span>Open Question: Impute <code>NaN</code> for daily tests</a></span></li><li><span><a href=\"#Find-Levitt-metric\" data-toc-modified-id=\"Find-Levitt-metric-1.4\"><span class=\"toc-item-num\">1.4&nbsp;&nbsp;</span>Find Levitt metric</a></span></li><li><span><a href=\"#21-day-moving-averages\" data-toc-modified-id=\"21-day-moving-averages-1.5\"><span class=\"toc-item-num\">1.5&nbsp;&nbsp;</span>21-day moving averages</a></span><ul class=\"toc-item\"><li><span><a href=\"#MA-of-daily-tests\" data-toc-modified-id=\"MA-of-daily-tests-1.5.1\"><span class=\"toc-item-num\">1.5.1&nbsp;&nbsp;</span>MA of daily tests</a></span></li><li><span><a href=\"#Daily-case-positivity\" data-toc-modified-id=\"Daily-case-positivity-1.5.2\"><span class=\"toc-item-num\">1.5.2&nbsp;&nbsp;</span>Daily case positivity</a></span></li><li><span><a href=\"#Percent-case-growth\" data-toc-modified-id=\"Percent-case-growth-1.5.3\"><span class=\"toc-item-num\">1.5.3&nbsp;&nbsp;</span>Percent case growth</a></span></li><li><span><a href=\"#Impute-Hospitalization-data\" data-toc-modified-id=\"Impute-Hospitalization-data-1.5.4\"><span class=\"toc-item-num\">1.5.4&nbsp;&nbsp;</span>Impute Hospitalization data</a></span></li></ul></li><li><span><a href=\"#Total-active-cases\" data-toc-modified-id=\"Total-active-cases-1.6\"><span class=\"toc-item-num\">1.6&nbsp;&nbsp;</span>Total active cases</a></span></li><li><span><a href=\"#Save-all-metrics-except-splines-to-CSV\" data-toc-modified-id=\"Save-all-metrics-except-splines-to-CSV-1.7\"><span class=\"toc-item-num\">1.7&nbsp;&nbsp;</span>Save all metrics except splines to CSV</a></span></li><li><span><a href=\"#Create-a-cubic-spline-function\" data-toc-modified-id=\"Create-a-cubic-spline-function-1.8\"><span class=\"toc-item-num\">1.8&nbsp;&nbsp;</span>Create a cubic spline function</a></span></li><li><span><a href=\"#Open-question:-What-do-we-apply-the-spline-function-over?\" data-toc-modified-id=\"Open-question:-What-do-we-apply-the-spline-function-over?-1.9\"><span class=\"toc-item-num\">1.9&nbsp;&nbsp;</span>Open question: What do we apply the spline function over?</a></span></li></ul></li></ul></div>"
   ]
  },
  {
   "cell_type": "markdown",
   "metadata": {},
   "source": [
    "## A PoC for calculating metrics for a city\n",
    "\n",
    "The metrics would be calculated using the imputation techniques and formulae below for every city"
   ]
  },
  {
   "cell_type": "markdown",
   "metadata": {},
   "source": [
    "### Preprocessing"
   ]
  },
  {
   "cell_type": "markdown",
   "metadata": {},
   "source": [
    "We first get the latest data by running the `extract_history.py` script"
   ]
  },
  {
   "cell_type": "code",
   "execution_count": 1,
   "metadata": {},
   "outputs": [
    {
     "name": "stdout",
     "output_type": "stream",
     "text": [
      "/Users/saurabhjogalekar/swb/swb-venv/lib/python3.7/site-packages/pandas/core/frame.py:4133: SettingWithCopyWarning: \r\n",
      "A value is trying to be set on a copy of a slice from a DataFrame\r\n",
      "\r\n",
      "See the caveats in the documentation: https://pandas.pydata.org/pandas-docs/stable/user_guide/indexing.html#returning-a-view-versus-a-copy\r\n",
      "  errors=errors,\r\n"
     ]
    }
   ],
   "source": [
    "!python3 extract_history.py"
   ]
  },
  {
   "cell_type": "markdown",
   "metadata": {},
   "source": [
    "Read the output as a dataframe"
   ]
  },
  {
   "cell_type": "code",
   "execution_count": 2,
   "metadata": {},
   "outputs": [],
   "source": [
    "import pandas as pd\n",
    "import numpy as np\n",
    "from numpy import random"
   ]
  },
  {
   "cell_type": "code",
   "execution_count": 3,
   "metadata": {},
   "outputs": [],
   "source": [
    "df = pd.read_csv(\"output/city_stats.csv\", index_col=[\"date\"])\n",
    "df.index = pd.to_datetime(df.index)"
   ]
  },
  {
   "cell_type": "markdown",
   "metadata": {},
   "source": [
    "We consider only Mumbai for the sake of PoC. The cities would be iterated over in the actual case"
   ]
  },
  {
   "cell_type": "code",
   "execution_count": 4,
   "metadata": {},
   "outputs": [],
   "source": [
    "df = df[df.district == \"Mumbai\"]"
   ]
  },
  {
   "cell_type": "markdown",
   "metadata": {},
   "source": [
    "We now drop the rows that have `NaN` total confirmed cases since all of remaining columns are empty  "
   ]
  },
  {
   "cell_type": "code",
   "execution_count": 5,
   "metadata": {},
   "outputs": [],
   "source": [
    "df.dropna(subset=[\"total.confirmed\"], inplace=True)"
   ]
  },
  {
   "cell_type": "markdown",
   "metadata": {},
   "source": [
    "We check if there are any `other` columns "
   ]
  },
  {
   "cell_type": "code",
   "execution_count": 6,
   "metadata": {},
   "outputs": [],
   "source": [
    "if not \"delta.other\" in df.columns:\n",
    "    df[\"delta.other\"] = 0\n",
    "if not \"total.other\" in df.columns:\n",
    "    df[\"total.other\"] = 0"
   ]
  },
  {
   "cell_type": "markdown",
   "metadata": {},
   "source": [
    "### Check `NaN` columns"
   ]
  },
  {
   "cell_type": "code",
   "execution_count": 7,
   "metadata": {},
   "outputs": [
    {
     "data": {
      "text/plain": [
       "district             0\n",
       "state                0\n",
       "total.confirmed      0\n",
       "total.deceased       0\n",
       "total.recovered      0\n",
       "delta.confirmed      1\n",
       "delta.deceased       1\n",
       "delta.recovered      3\n",
       "delta.tested        53\n",
       "total.tested        22\n",
       "delta.other        106\n",
       "total.other         48\n",
       "dtype: int64"
      ]
     },
     "execution_count": 7,
     "metadata": {},
     "output_type": "execute_result"
    }
   ],
   "source": [
    "df.isnull().sum()"
   ]
  },
  {
   "cell_type": "markdown",
   "metadata": {},
   "source": [
    "We see that there are many empty rows for daily tests (delta tests)."
   ]
  },
  {
   "cell_type": "markdown",
   "metadata": {},
   "source": [
    "### Open Question: Impute `NaN` for daily tests\n",
    "\n",
    "What is a good strategy to impute NaN for delta tests? We need to ensure that the imputations match the total tests.\n",
    "\n",
    "Currently, we drop the rows that have empty delta tests.\n"
   ]
  },
  {
   "cell_type": "code",
   "execution_count": 8,
   "metadata": {},
   "outputs": [],
   "source": [
    "df.dropna(subset=[\"delta.tested\"], inplace=True)"
   ]
  },
  {
   "cell_type": "code",
   "execution_count": 9,
   "metadata": {},
   "outputs": [
    {
     "data": {
      "text/html": [
       "<div>\n",
       "<style scoped>\n",
       "    .dataframe tbody tr th:only-of-type {\n",
       "        vertical-align: middle;\n",
       "    }\n",
       "\n",
       "    .dataframe tbody tr th {\n",
       "        vertical-align: top;\n",
       "    }\n",
       "\n",
       "    .dataframe thead th {\n",
       "        text-align: right;\n",
       "    }\n",
       "</style>\n",
       "<table border=\"1\" class=\"dataframe\">\n",
       "  <thead>\n",
       "    <tr style=\"text-align: right;\">\n",
       "      <th></th>\n",
       "      <th>total.confirmed</th>\n",
       "      <th>total.deceased</th>\n",
       "      <th>total.recovered</th>\n",
       "      <th>delta.confirmed</th>\n",
       "      <th>delta.deceased</th>\n",
       "      <th>delta.recovered</th>\n",
       "      <th>delta.tested</th>\n",
       "      <th>total.tested</th>\n",
       "      <th>delta.other</th>\n",
       "      <th>total.other</th>\n",
       "    </tr>\n",
       "  </thead>\n",
       "  <tbody>\n",
       "    <tr>\n",
       "      <th>count</th>\n",
       "      <td>87.000000</td>\n",
       "      <td>87.000000</td>\n",
       "      <td>87.000000</td>\n",
       "      <td>87.000000</td>\n",
       "      <td>87.000000</td>\n",
       "      <td>86.000000</td>\n",
       "      <td>87.000000</td>\n",
       "      <td>87.000000</td>\n",
       "      <td>28.000000</td>\n",
       "      <td>77.000000</td>\n",
       "    </tr>\n",
       "    <tr>\n",
       "      <th>mean</th>\n",
       "      <td>102496.149425</td>\n",
       "      <td>5499.816092</td>\n",
       "      <td>73918.505747</td>\n",
       "      <td>1214.977011</td>\n",
       "      <td>64.402299</td>\n",
       "      <td>1043.639535</td>\n",
       "      <td>10198.551724</td>\n",
       "      <td>493881.816092</td>\n",
       "      <td>12.142857</td>\n",
       "      <td>228.207792</td>\n",
       "    </tr>\n",
       "    <tr>\n",
       "      <th>std</th>\n",
       "      <td>35549.227946</td>\n",
       "      <td>2022.802388</td>\n",
       "      <td>35208.967341</td>\n",
       "      <td>380.570715</td>\n",
       "      <td>95.220730</td>\n",
       "      <td>553.171879</td>\n",
       "      <td>22798.689288</td>\n",
       "      <td>201028.203425</td>\n",
       "      <td>51.738455</td>\n",
       "      <td>131.867192</td>\n",
       "    </tr>\n",
       "    <tr>\n",
       "      <th>min</th>\n",
       "      <td>21335.000000</td>\n",
       "      <td>757.000000</td>\n",
       "      <td>3730.000000</td>\n",
       "      <td>-819.000000</td>\n",
       "      <td>20.000000</td>\n",
       "      <td>194.000000</td>\n",
       "      <td>-90542.000000</td>\n",
       "      <td>162000.000000</td>\n",
       "      <td>1.000000</td>\n",
       "      <td>8.000000</td>\n",
       "    </tr>\n",
       "    <tr>\n",
       "      <th>25%</th>\n",
       "      <td>78401.500000</td>\n",
       "      <td>4593.500000</td>\n",
       "      <td>44480.500000</td>\n",
       "      <td>1041.000000</td>\n",
       "      <td>39.000000</td>\n",
       "      <td>696.500000</td>\n",
       "      <td>5447.500000</td>\n",
       "      <td>334208.500000</td>\n",
       "      <td>1.000000</td>\n",
       "      <td>11.000000</td>\n",
       "    </tr>\n",
       "    <tr>\n",
       "      <th>50%</th>\n",
       "      <td>105923.000000</td>\n",
       "      <td>5930.000000</td>\n",
       "      <td>77102.000000</td>\n",
       "      <td>1190.000000</td>\n",
       "      <td>49.000000</td>\n",
       "      <td>916.000000</td>\n",
       "      <td>7376.000000</td>\n",
       "      <td>462721.000000</td>\n",
       "      <td>2.000000</td>\n",
       "      <td>294.000000</td>\n",
       "    </tr>\n",
       "    <tr>\n",
       "      <th>75%</th>\n",
       "      <td>128630.500000</td>\n",
       "      <td>7109.500000</td>\n",
       "      <td>103108.500000</td>\n",
       "      <td>1355.000000</td>\n",
       "      <td>64.000000</td>\n",
       "      <td>1238.000000</td>\n",
       "      <td>10328.000000</td>\n",
       "      <td>654141.500000</td>\n",
       "      <td>4.000000</td>\n",
       "      <td>303.000000</td>\n",
       "    </tr>\n",
       "    <tr>\n",
       "      <th>max</th>\n",
       "      <td>163115.000000</td>\n",
       "      <td>8023.000000</td>\n",
       "      <td>128112.000000</td>\n",
       "      <td>2371.000000</td>\n",
       "      <td>917.000000</td>\n",
       "      <td>3139.000000</td>\n",
       "      <td>162000.000000</td>\n",
       "      <td>887274.000000</td>\n",
       "      <td>276.000000</td>\n",
       "      <td>351.000000</td>\n",
       "    </tr>\n",
       "  </tbody>\n",
       "</table>\n",
       "</div>"
      ],
      "text/plain": [
       "       total.confirmed  total.deceased  total.recovered  delta.confirmed  \\\n",
       "count        87.000000       87.000000        87.000000        87.000000   \n",
       "mean     102496.149425     5499.816092     73918.505747      1214.977011   \n",
       "std       35549.227946     2022.802388     35208.967341       380.570715   \n",
       "min       21335.000000      757.000000      3730.000000      -819.000000   \n",
       "25%       78401.500000     4593.500000     44480.500000      1041.000000   \n",
       "50%      105923.000000     5930.000000     77102.000000      1190.000000   \n",
       "75%      128630.500000     7109.500000    103108.500000      1355.000000   \n",
       "max      163115.000000     8023.000000    128112.000000      2371.000000   \n",
       "\n",
       "       delta.deceased  delta.recovered   delta.tested   total.tested  \\\n",
       "count       87.000000        86.000000      87.000000      87.000000   \n",
       "mean        64.402299      1043.639535   10198.551724  493881.816092   \n",
       "std         95.220730       553.171879   22798.689288  201028.203425   \n",
       "min         20.000000       194.000000  -90542.000000  162000.000000   \n",
       "25%         39.000000       696.500000    5447.500000  334208.500000   \n",
       "50%         49.000000       916.000000    7376.000000  462721.000000   \n",
       "75%         64.000000      1238.000000   10328.000000  654141.500000   \n",
       "max        917.000000      3139.000000  162000.000000  887274.000000   \n",
       "\n",
       "       delta.other  total.other  \n",
       "count    28.000000    77.000000  \n",
       "mean     12.142857   228.207792  \n",
       "std      51.738455   131.867192  \n",
       "min       1.000000     8.000000  \n",
       "25%       1.000000    11.000000  \n",
       "50%       2.000000   294.000000  \n",
       "75%       4.000000   303.000000  \n",
       "max     276.000000   351.000000  "
      ]
     },
     "execution_count": 9,
     "metadata": {},
     "output_type": "execute_result"
    }
   ],
   "source": [
    "df.describe()"
   ]
  },
  {
   "cell_type": "markdown",
   "metadata": {},
   "source": [
    "We see that there are some rows that have negative values for delta.tested and delta.confirmed. We replace them with the mean of nearest 7 neighbours (1 week)"
   ]
  },
  {
   "cell_type": "code",
   "execution_count": 10,
   "metadata": {},
   "outputs": [],
   "source": [
    "df.loc[df[\"delta.tested\"]<0, [\"delta.tested\"]] = np.nan\n",
    "df.loc[df[\"delta.confirmed\"]<0, [\"delta.confirmed\"]] = np.nan"
   ]
  },
  {
   "cell_type": "code",
   "execution_count": 11,
   "metadata": {},
   "outputs": [],
   "source": [
    "from sklearn.impute import KNNImputer\n",
    "imputer = KNNImputer(n_neighbors=7)\n",
    "df.loc[:,['delta.confirmed', 'delta.tested']] = np.round(imputer.fit_transform(df.loc[:,['delta.confirmed', 'delta.tested']]))"
   ]
  },
  {
   "cell_type": "code",
   "execution_count": 12,
   "metadata": {},
   "outputs": [
    {
     "data": {
      "text/html": [
       "<div>\n",
       "<style scoped>\n",
       "    .dataframe tbody tr th:only-of-type {\n",
       "        vertical-align: middle;\n",
       "    }\n",
       "\n",
       "    .dataframe tbody tr th {\n",
       "        vertical-align: top;\n",
       "    }\n",
       "\n",
       "    .dataframe thead th {\n",
       "        text-align: right;\n",
       "    }\n",
       "</style>\n",
       "<table border=\"1\" class=\"dataframe\">\n",
       "  <thead>\n",
       "    <tr style=\"text-align: right;\">\n",
       "      <th></th>\n",
       "      <th>total.confirmed</th>\n",
       "      <th>total.deceased</th>\n",
       "      <th>total.recovered</th>\n",
       "      <th>delta.confirmed</th>\n",
       "      <th>delta.deceased</th>\n",
       "      <th>delta.recovered</th>\n",
       "      <th>delta.tested</th>\n",
       "      <th>total.tested</th>\n",
       "      <th>delta.other</th>\n",
       "      <th>total.other</th>\n",
       "    </tr>\n",
       "  </thead>\n",
       "  <tbody>\n",
       "    <tr>\n",
       "      <th>count</th>\n",
       "      <td>87.000000</td>\n",
       "      <td>87.000000</td>\n",
       "      <td>87.000000</td>\n",
       "      <td>87.000000</td>\n",
       "      <td>87.000000</td>\n",
       "      <td>86.000000</td>\n",
       "      <td>87.00000</td>\n",
       "      <td>87.000000</td>\n",
       "      <td>28.000000</td>\n",
       "      <td>77.000000</td>\n",
       "    </tr>\n",
       "    <tr>\n",
       "      <th>mean</th>\n",
       "      <td>102496.149425</td>\n",
       "      <td>5499.816092</td>\n",
       "      <td>73918.505747</td>\n",
       "      <td>1237.218391</td>\n",
       "      <td>64.402299</td>\n",
       "      <td>1043.639535</td>\n",
       "      <td>11541.91954</td>\n",
       "      <td>493881.816092</td>\n",
       "      <td>12.142857</td>\n",
       "      <td>228.207792</td>\n",
       "    </tr>\n",
       "    <tr>\n",
       "      <th>std</th>\n",
       "      <td>35549.227946</td>\n",
       "      <td>2022.802388</td>\n",
       "      <td>35208.967341</td>\n",
       "      <td>310.390355</td>\n",
       "      <td>95.220730</td>\n",
       "      <td>553.171879</td>\n",
       "      <td>20074.19197</td>\n",
       "      <td>201028.203425</td>\n",
       "      <td>51.738455</td>\n",
       "      <td>131.867192</td>\n",
       "    </tr>\n",
       "    <tr>\n",
       "      <th>min</th>\n",
       "      <td>21335.000000</td>\n",
       "      <td>757.000000</td>\n",
       "      <td>3730.000000</td>\n",
       "      <td>700.000000</td>\n",
       "      <td>20.000000</td>\n",
       "      <td>194.000000</td>\n",
       "      <td>2671.00000</td>\n",
       "      <td>162000.000000</td>\n",
       "      <td>1.000000</td>\n",
       "      <td>8.000000</td>\n",
       "    </tr>\n",
       "    <tr>\n",
       "      <th>25%</th>\n",
       "      <td>78401.500000</td>\n",
       "      <td>4593.500000</td>\n",
       "      <td>44480.500000</td>\n",
       "      <td>1045.500000</td>\n",
       "      <td>39.000000</td>\n",
       "      <td>696.500000</td>\n",
       "      <td>5511.00000</td>\n",
       "      <td>334208.500000</td>\n",
       "      <td>1.000000</td>\n",
       "      <td>11.000000</td>\n",
       "    </tr>\n",
       "    <tr>\n",
       "      <th>50%</th>\n",
       "      <td>105923.000000</td>\n",
       "      <td>5930.000000</td>\n",
       "      <td>77102.000000</td>\n",
       "      <td>1190.000000</td>\n",
       "      <td>49.000000</td>\n",
       "      <td>916.000000</td>\n",
       "      <td>7561.00000</td>\n",
       "      <td>462721.000000</td>\n",
       "      <td>2.000000</td>\n",
       "      <td>294.000000</td>\n",
       "    </tr>\n",
       "    <tr>\n",
       "      <th>75%</th>\n",
       "      <td>128630.500000</td>\n",
       "      <td>7109.500000</td>\n",
       "      <td>103108.500000</td>\n",
       "      <td>1355.000000</td>\n",
       "      <td>64.000000</td>\n",
       "      <td>1238.000000</td>\n",
       "      <td>10471.00000</td>\n",
       "      <td>654141.500000</td>\n",
       "      <td>4.000000</td>\n",
       "      <td>303.000000</td>\n",
       "    </tr>\n",
       "    <tr>\n",
       "      <th>max</th>\n",
       "      <td>163115.000000</td>\n",
       "      <td>8023.000000</td>\n",
       "      <td>128112.000000</td>\n",
       "      <td>2371.000000</td>\n",
       "      <td>917.000000</td>\n",
       "      <td>3139.000000</td>\n",
       "      <td>162000.00000</td>\n",
       "      <td>887274.000000</td>\n",
       "      <td>276.000000</td>\n",
       "      <td>351.000000</td>\n",
       "    </tr>\n",
       "  </tbody>\n",
       "</table>\n",
       "</div>"
      ],
      "text/plain": [
       "       total.confirmed  total.deceased  total.recovered  delta.confirmed  \\\n",
       "count        87.000000       87.000000        87.000000        87.000000   \n",
       "mean     102496.149425     5499.816092     73918.505747      1237.218391   \n",
       "std       35549.227946     2022.802388     35208.967341       310.390355   \n",
       "min       21335.000000      757.000000      3730.000000       700.000000   \n",
       "25%       78401.500000     4593.500000     44480.500000      1045.500000   \n",
       "50%      105923.000000     5930.000000     77102.000000      1190.000000   \n",
       "75%      128630.500000     7109.500000    103108.500000      1355.000000   \n",
       "max      163115.000000     8023.000000    128112.000000      2371.000000   \n",
       "\n",
       "       delta.deceased  delta.recovered  delta.tested   total.tested  \\\n",
       "count       87.000000        86.000000      87.00000      87.000000   \n",
       "mean        64.402299      1043.639535   11541.91954  493881.816092   \n",
       "std         95.220730       553.171879   20074.19197  201028.203425   \n",
       "min         20.000000       194.000000    2671.00000  162000.000000   \n",
       "25%         39.000000       696.500000    5511.00000  334208.500000   \n",
       "50%         49.000000       916.000000    7561.00000  462721.000000   \n",
       "75%         64.000000      1238.000000   10471.00000  654141.500000   \n",
       "max        917.000000      3139.000000  162000.00000  887274.000000   \n",
       "\n",
       "       delta.other  total.other  \n",
       "count    28.000000    77.000000  \n",
       "mean     12.142857   228.207792  \n",
       "std      51.738455   131.867192  \n",
       "min       1.000000     8.000000  \n",
       "25%       1.000000    11.000000  \n",
       "50%       2.000000   294.000000  \n",
       "75%       4.000000   303.000000  \n",
       "max     276.000000   351.000000  "
      ]
     },
     "execution_count": 12,
     "metadata": {},
     "output_type": "execute_result"
    }
   ],
   "source": [
    "df.describe()"
   ]
  },
  {
   "cell_type": "markdown",
   "metadata": {},
   "source": [
    "### Find Levitt metric\n",
    "\n",
    "We first shift the deceased cases and apply log "
   ]
  },
  {
   "cell_type": "code",
   "execution_count": 13,
   "metadata": {},
   "outputs": [],
   "source": [
    "df[\"total.deceased.shift\"] = df[\"total.deceased\"].shift(1)"
   ]
  },
  {
   "cell_type": "code",
   "execution_count": 14,
   "metadata": {},
   "outputs": [],
   "source": [
    "import numpy as np\n",
    "df[\"levitt.Metric\"] = np.log(df[\"total.deceased\"]/df.pop(\"total.deceased.shift\"))"
   ]
  },
  {
   "cell_type": "code",
   "execution_count": 15,
   "metadata": {},
   "outputs": [
    {
     "data": {
      "text/plain": [
       "<matplotlib.axes._subplots.AxesSubplot at 0x128f8c710>"
      ]
     },
     "execution_count": 15,
     "metadata": {},
     "output_type": "execute_result"
    },
    {
     "data": {
      "image/png": "[encoded data removed]",
      "text/plain": [
       "<Figure size 432x288 with 1 Axes>"
      ]
     },
     "metadata": {
      "needs_background": "light"
     },
     "output_type": "display_data"
    }
   ],
   "source": [
    "df[\"levitt.Metric\"].plot()"
   ]
  },
  {
   "cell_type": "markdown",
   "metadata": {},
   "source": [
    "Sharp spike due to 800+ deaths in a day, which was an outlier for that time "
   ]
  },
  {
   "cell_type": "markdown",
   "metadata": {},
   "source": [
    "### 21-day moving averages"
   ]
  },
  {
   "cell_type": "markdown",
   "metadata": {},
   "source": [
    "#### MA of daily tests"
   ]
  },
  {
   "cell_type": "code",
   "execution_count": 16,
   "metadata": {},
   "outputs": [],
   "source": [
    "df[\"MA.21.daily.tests\"] = df[\"delta.tested\"].rolling(window=21).mean()"
   ]
  },
  {
   "cell_type": "code",
   "execution_count": 17,
   "metadata": {},
   "outputs": [
    {
     "data": {
      "text/plain": [
       "<matplotlib.axes._subplots.AxesSubplot at 0x1294a8d50>"
      ]
     },
     "execution_count": 17,
     "metadata": {},
     "output_type": "execute_result"
    },
    {
     "data": {
      "image/png": "[encoded data removed]",
      "text/plain": [
       "<Figure size 432x288 with 1 Axes>"
      ]
     },
     "metadata": {
      "needs_background": "light"
     },
     "output_type": "display_data"
    }
   ],
   "source": [
    "df[\"MA.21.daily.tests\"].plot()"
   ]
  },
  {
   "cell_type": "markdown",
   "metadata": {},
   "source": [
    "#### Daily case positivity\n",
    "\n",
    "We find daily positivity by dividing daily confirmed cases by the number of tests"
   ]
  },
  {
   "cell_type": "code",
   "execution_count": 18,
   "metadata": {},
   "outputs": [
    {
     "data": {
      "text/plain": [
       "<matplotlib.axes._subplots.AxesSubplot at 0x1296596d0>"
      ]
     },
     "execution_count": 18,
     "metadata": {},
     "output_type": "execute_result"
    },
    {
     "data": {
      "image/png": "[encoded data removed]",
      "text/plain": [
       "<Figure size 432x288 with 1 Axes>"
      ]
     },
     "metadata": {
      "needs_background": "light"
     },
     "output_type": "display_data"
    }
   ],
   "source": [
    "df[\"delta.positivity\"] = (df[\"delta.confirmed\"]/df[\"delta.tested\"] ) * 100.0\n",
    "df[\"delta.positivity\"].plot()"
   ]
  },
  {
   "cell_type": "code",
   "execution_count": 19,
   "metadata": {},
   "outputs": [
    {
     "data": {
      "text/plain": [
       "<matplotlib.axes._subplots.AxesSubplot at 0x129741090>"
      ]
     },
     "execution_count": 19,
     "metadata": {},
     "output_type": "execute_result"
    },
    {
     "data": {
      "image/png": "[encoded data removed]",
      "text/plain": [
       "<Figure size 432x288 with 1 Axes>"
      ]
     },
     "metadata": {
      "needs_background": "light"
     },
     "output_type": "display_data"
    }
   ],
   "source": [
    "df[\"MA.21.delta.positivity\"] = df[\"delta.positivity\"].rolling(window=21).mean()\n",
    "df[\"MA.21.delta.positivity\"].plot()"
   ]
  },
  {
   "cell_type": "markdown",
   "metadata": {},
   "source": [
    "#### Percent case growth\n",
    "\n"
   ]
  },
  {
   "cell_type": "code",
   "execution_count": 20,
   "metadata": {},
   "outputs": [],
   "source": [
    "df[\"delta.percent.case.growth\"] = df[\"delta.confirmed\"].pct_change()"
   ]
  },
  {
   "cell_type": "code",
   "execution_count": 21,
   "metadata": {},
   "outputs": [
    {
     "data": {
      "text/plain": [
       "<matplotlib.axes._subplots.AxesSubplot at 0x12965e310>"
      ]
     },
     "execution_count": 21,
     "metadata": {},
     "output_type": "execute_result"
    },
    {
     "data": {
      "image/png": "[encoded data removed]",
      "text/plain": [
       "<Figure size 432x288 with 1 Axes>"
      ]
     },
     "metadata": {
      "needs_background": "light"
     },
     "output_type": "display_data"
    }
   ],
   "source": [
    "df[\"delta.percent.case.growth\"].plot()"
   ]
  },
  {
   "cell_type": "code",
   "execution_count": 22,
   "metadata": {},
   "outputs": [
    {
     "data": {
      "text/plain": [
       "<matplotlib.axes._subplots.AxesSubplot at 0x129900110>"
      ]
     },
     "execution_count": 22,
     "metadata": {},
     "output_type": "execute_result"
    },
    {
     "data": {
      "image/png": "[encoded data removed]",
      "text/plain": [
       "<Figure size 432x288 with 1 Axes>"
      ]
     },
     "metadata": {
      "needs_background": "light"
     },
     "output_type": "display_data"
    }
   ],
   "source": [
    "df[\"MA.21.delta.percent.case.growth\"] = df[\"delta.percent.case.growth\"].rolling(window=21).mean()\n",
    "df[\"MA.21.delta.percent.case.growth\"].plot()"
   ]
  },
  {
   "cell_type": "markdown",
   "metadata": {},
   "source": [
    "#### Impute Hospitalization data\n",
    "\n",
    "We calculate values from 12% to 16% uniformly and store them in a file for persistence and consistency"
   ]
  },
  {
   "cell_type": "code",
   "execution_count": 23,
   "metadata": {},
   "outputs": [],
   "source": [
    "# this code is used to generate random values and store them in a file with corresponding percentage for dates\n",
    "# uncomment to reset the percentages\n",
    "\n",
    "#from numpy import random\n",
    "#df[\"percentages\"] = random.uniform(0.12,0.16,size=df.shape[0])\n",
    "#df_bck = pd.DataFrame(df[\"percentages\"], index=df.index)\n",
    "#df_bck.to_csv(\"output/percentages_for_hospitalizations.csv\")\n",
    "#df.drop([\"percentages\"], axis=1, inplace=True)"
   ]
  },
  {
   "cell_type": "code",
   "execution_count": 24,
   "metadata": {},
   "outputs": [],
   "source": [
    "#df.drop([\"percentages\"], axis=1, inplace=True)\n",
    "df_bck = pd.read_csv(\"output/percentages_for_hospitalizations.csv\", index_col=[\"date\"])\n",
    "df = df.join(df_bck)"
   ]
  },
  {
   "cell_type": "code",
   "execution_count": 25,
   "metadata": {},
   "outputs": [],
   "source": [
    "if sum(np.isnan(df[\"percentages\"])) > 0:\n",
    "    imp = pd.Series(random.uniform(0.12,0.16,size=sum(np.isnan(df[\"percentages\"]))))\n",
    "    df.loc[np.isnan(df[\"percentages\"]),[\"percentages\"]] = imp[0]\n",
    "    df_bck = pd.DataFrame(df[\"percentages\"], index=df.index)\n",
    "    df_bck.to_csv(\"output/percentages_for_hospitalizations.csv\")"
   ]
  },
  {
   "cell_type": "code",
   "execution_count": 26,
   "metadata": {},
   "outputs": [
    {
     "data": {
      "text/plain": [
       "<matplotlib.axes._subplots.AxesSubplot at 0x128e0fe50>"
      ]
     },
     "execution_count": 26,
     "metadata": {},
     "output_type": "execute_result"
    },
    {
     "data": {
      "image/png": "[encoded data removed]",
      "text/plain": [
       "<Figure size 432x288 with 1 Axes>"
      ]
     },
     "metadata": {
      "needs_background": "light"
     },
     "output_type": "display_data"
    }
   ],
   "source": [
    "df[\"delta.hospitalized\"] = df.pop(\"percentages\") * df[\"delta.confirmed\"]\n",
    "df[\"delta.hospitalized\"].plot()"
   ]
  },
  {
   "cell_type": "code",
   "execution_count": 27,
   "metadata": {},
   "outputs": [],
   "source": [
    "df[\"total.hospitalized\"] = df[\"delta.hospitalized\"].cumsum()"
   ]
  },
  {
   "cell_type": "markdown",
   "metadata": {},
   "source": [
    "### Total active cases\n",
    "\n",
    "We find active cases by:\n",
    "\n",
    "Active = Confirmed - deceased - recovered"
   ]
  },
  {
   "cell_type": "code",
   "execution_count": 28,
   "metadata": {},
   "outputs": [],
   "source": [
    "df[\"delta.active\"] = df[\"total.confirmed\"] - df[\"total.deceased\"] - df[\"total.recovered\"] "
   ]
  },
  {
   "cell_type": "markdown",
   "metadata": {},
   "source": [
    "### Save all metrics except splines to CSV"
   ]
  },
  {
   "cell_type": "code",
   "execution_count": 29,
   "metadata": {},
   "outputs": [],
   "source": [
    "df.to_csv(\"output/metrics.csv\")"
   ]
  },
  {
   "cell_type": "markdown",
   "metadata": {},
   "source": [
    "### Create a cubic spline function\n",
    "\n",
    "Create a function for cubic spline using delta(daily) cases as parameters."
   ]
  },
  {
   "cell_type": "code",
   "execution_count": 30,
   "metadata": {},
   "outputs": [],
   "source": [
    "y = df.loc[:,[\"delta.deceased\", \"delta.active\", \"delta.hospitalized\", \"delta.recovered\"]]\n",
    "y.dropna(inplace=True)"
   ]
  },
  {
   "cell_type": "code",
   "execution_count": 31,
   "metadata": {},
   "outputs": [],
   "source": [
    "from scipy.interpolate import CubicSpline"
   ]
  },
  {
   "cell_type": "code",
   "execution_count": 33,
   "metadata": {},
   "outputs": [],
   "source": [
    "cs = CubicSpline(y.index.astype(int), y)"
   ]
  },
  {
   "cell_type": "markdown",
   "metadata": {},
   "source": [
    "### Open question: What do we apply the spline function over?"
   ]
  },
  {
   "cell_type": "code",
   "execution_count": null,
   "metadata": {},
   "outputs": [],
   "source": []
  }
 ],
 "metadata": {
  "kernelspec": {
   "display_name": "Python 3",
   "language": "python",
   "name": "python3"
  },
  "language_info": {
   "codemirror_mode": {
    "name": "ipython",
    "version": 3
   },
   "file_extension": ".py",
   "mimetype": "text/x-python",
   "name": "python",
   "nbconvert_exporter": "python",
   "pygments_lexer": "ipython3",
   "version": "3.7.5"
  },
  "toc": {
   "base_numbering": 1,
   "nav_menu": {},
   "number_sections": true,
   "sideBar": true,
   "skip_h1_title": false,
   "title_cell": "Table of Contents",
   "title_sidebar": "Contents",
   "toc_cell": true,
   "toc_position": {},
   "toc_section_display": true,
   "toc_window_display": false
  }
 },
 "nbformat": 4,
 "nbformat_minor": 4
}
